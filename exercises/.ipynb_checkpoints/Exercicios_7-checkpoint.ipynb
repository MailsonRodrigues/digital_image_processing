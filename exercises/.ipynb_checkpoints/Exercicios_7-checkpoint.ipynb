{
 "cells": [
  {
   "cell_type": "markdown",
   "metadata": {},
   "source": [
    "<h1>DETECÇÃO DE BORDAS COM O ALGORITMO DE CANNY</h1>\n",
    "\n",
    "<h2>Sumário</h2>\n",
    "    \n",
    "[1. Introdução](#introducao)<br>\n",
    "[2. Script melhorado da técnica o Pontilhismo](#script1)<br>\n",
    "&nbsp;&nbsp;&nbsp;&nbsp;[2.1 Bibliotecas](#bibliotecas)<br>\n",
    "&nbsp;&nbsp;&nbsp;&nbsp;[2.2 Função de aplicação da técnica do Pontilhismo](#funcao1)<br>\n",
    "&nbsp;&nbsp;&nbsp;&nbsp;[2.3 Resultados](#result)<br>"
   ]
  },
  {
   "cell_type": "markdown",
   "metadata": {},
   "source": [
    "<a id='introducao'></a>\n",
    "\n",
    "<h2>1. Introdução</h2>\n",
    "\n",
    "<p style='text-align: justify;'>Este exercício tem com objetivo o entendimento acerca do algoritmo de Canny para a detecção de bordas em uma figura. Além disso, há um viés artístico no aprendizado e implementação da técnica do pontilhismo. Dessa forma, pretende-se implementar uma melhoria no algoritmo padrão do pontilhismo através da utilização das informações referentes às bordas da figura fornecidas pelo algoritmo de Canny.</p>"
   ]
  },
  {
   "cell_type": "markdown",
   "metadata": {},
   "source": [
    "<a id='script1'></a>\n",
    "\n",
    "<h2>2. Script melhorado da técnica do Pontilhismo</h2>\n",
    "\n",
    "<p style='text-align: justify;'>Esta seção descreverá a implementação do algoritmo descrito na Introdução.</p>"
   ]
  },
  {
   "cell_type": "markdown",
   "metadata": {},
   "source": [
    "<a id='bibliotecas'></a>\n",
    "\n",
    "<h3>2.1 Bibliotecas</h3>\n",
    "\n",
    "<p style='text-align: justify;'>Inicialmente, importa-se as bibliotecas necessárias para a realização dos algoritmos. A primeira consiste na biblioteca do openCV para Python, utilizada para todo o tratamento de imagem. O numpy é utilizado para trabalhar com as matrizes das imagens. A biblioteca random foi aplicada no posicionamento aleatório dos círculos para o Pontilhismo.</p>"
   ]
  },
  {
   "cell_type": "code",
   "execution_count": 1,
   "metadata": {},
   "outputs": [],
   "source": [
    "import cv2\n",
    "import numpy as np\n",
    "import random"
   ]
  },
  {
   "cell_type": "markdown",
   "metadata": {},
   "source": [
    "<a id='funcao1'></a>\n",
    "\n",
    "<h3>2.2 Função de aplicação da técnica do Pontilhismo</h3>\n",
    "\n",
    "A função <i>pontilhismo</i> exibida abaixo recebe como parâmetro a variável STEP, que indicará a taxa em que a imagem original será amostrada para o posicionamento das circunferências. O parâmetro JITTER indica o valor máximo de um deslocamento aleatório do ponto de posicionamento das circunferências. O RAIO indica o raio das circunferências que serão geradas. Além disso, a imagem original é passada como parâmetro.\n",
    "\n",
    "Dentro da função, define-se os vetores de coordenadas x e y de acordo com o STEP definido. Em seguida, é definida a martriz <i>points</i> que será a imagem de saída. Esta matriz é criada com a cor completamente branca.\n",
    "\n",
    "Dentro dos loops, os vetores de coordenadas são acessados de forma aleatória e uma circunferência é posicionada num ponto aleatório em torno das coordenadas de centro definidas. Dessa forma, tem-se uma imagem formada apenas por circunferências espalhadas."
   ]
  },
  {
   "cell_type": "code",
   "execution_count": 2,
   "metadata": {},
   "outputs": [],
   "source": [
    "def pontilhismo(STEP, JITTER, RAIO, image):\n",
    "    width = image.shape[1]\n",
    "    height = image.shape[0]\n",
    "    \n",
    "    xrange = np.arange(0, height//STEP, 1, dtype='int')\n",
    "    yrange = np.arange(0, width//STEP, 1, dtype='int')\n",
    "    \n",
    "    for i in range (len(xrange)):\n",
    "        xrange[i] = xrange[i]*STEP+STEP/2\n",
    "    \n",
    "    for i in range (len(yrange)):\n",
    "        yrange[i] = yrange[i]*STEP+STEP/2\n",
    "     \n",
    "    points = np.full(image.shape, 255, dtype='uint8')\n",
    "    random.shuffle(xrange)\n",
    "    \n",
    "    for i in xrange:\n",
    "        random.shuffle(yrange)\n",
    "        for j in yrange:\n",
    "            x = i + random.randint(1-JITTER,JITTER)\n",
    "            y = j + random.randint(1-JITTER,JITTER)\n",
    "            #print(\"x: \"+str(x)+\" y: \",str(y), image.shape )\n",
    "            if x < image.shape[0] and y < image.shape[1]:\n",
    "                gray = int(image[x][y])\n",
    "                cv2.circle(points, (y,x), RAIO, (gray,gray,gray), -1 )\n",
    "    return points"
   ]
  },
  {
   "cell_type": "markdown",
   "metadata": {},
   "source": [
    "O trecho de código abaixo mostra o processo de abertura da imagem alvo do processo e a verificação da abertura:"
   ]
  },
  {
   "cell_type": "code",
   "execution_count": 3,
   "metadata": {},
   "outputs": [],
   "source": [
    "image = cv2.imread(\"..\\images\\\\we.jpg\",0)\n",
    "\n",
    "if not image.data:\n",
    "    print(\"Erro ao abrir imagem\")"
   ]
  },
  {
   "cell_type": "markdown",
   "metadata": {},
   "source": [
    "Abaixo, tem-se os parâmetros da função do pontilhismo e do algoritmo de Canny. Os parâmetros STEP e JITTER já foram anteriormente explicados. A variável STEP_CANNY indica o passo em que os limiares do algoritmo de Canny irão avançar, tendo como limite a variável CANNY_MAX.\n",
    "\n",
    "Dado que uma das propostas do algoritmo é a variação dos limiares de do algoritmo de Canny e eventual preenchimento das bordas com circunferências de raios diferente para cada variação, criou-se uma variável RAIO_MAX, a qual indica qual será o raio da maior circunferência que será utilizada nas bordas. O menor raio considerado foi de 1, o qual não está definido em variáveis. O RAIO_INICIAL indica o raio das circunferências que inicialmente são utilizadas para o preenchimento da imagem."
   ]
  },
  {
   "cell_type": "code",
   "execution_count": 25,
   "metadata": {},
   "outputs": [],
   "source": [
    "STEP = 2\n",
    "JITTER = 5\n",
    "STEP_CANNY = 20\n",
    "CANNY_MAX = 220\n",
    "RAIO_MAX = 3\n",
    "RAIO_INICIAL = 6"
   ]
  },
  {
   "cell_type": "markdown",
   "metadata": {},
   "source": [
    "Com as informações anteriores, criou-se um vetor RAIO de inteiros e com o mesmo tamanho da quantidade de passos nos limiares de Canny. Como a quantidade de passos depende se CANNY_MAX é múltiplo de STEP_CANNY, utilizou-se uma condição para que o tamanho do vetor fosse variável obedecendo a isto. Como os raios das circunferências são inteiros, o tipo do vetor foi declarado como 'uint'. Além disso, o raio deverá tender a diminuir com o passar das iterações, então os valores partem do RAIO_MAX para o raio unitário."
   ]
  },
  {
   "cell_type": "code",
   "execution_count": 26,
   "metadata": {},
   "outputs": [
    {
     "name": "stdout",
     "output_type": "stream",
     "text": [
      "[3 2 2 2 2 2 1 1 1 1 1]\n"
     ]
    }
   ],
   "source": [
    "RAIO = np.linspace(RAIO_MAX, 1, CANNY_MAX//STEP_CANNY - 1 if CANNY_MAX%50==0 else CANNY_MAX//STEP_CANNY, dtype='uint')\n",
    "print(RAIO)"
   ]
  },
  {
   "cell_type": "markdown",
   "metadata": {},
   "source": [
    "Abaixo tem-se a execução da função do Pontilhismo, preenchendo a imagem com circunferências de raio RAIO_INICIAL:"
   ]
  },
  {
   "cell_type": "code",
   "execution_count": 31,
   "metadata": {},
   "outputs": [],
   "source": [
    "pontos = pontilhismo(STEP, JITTER, RAIO_INICIAL, image)\n",
    "cv2.imshow(\"image\",pontos)\n",
    "cv2.waitKey(0)\n",
    "cv2.destroyAllWindows()"
   ]
  },
  {
   "cell_type": "markdown",
   "metadata": {},
   "source": [
    "Para a melhoria na imagem criada inicialmente acima, foi criado um loop externo, o qual dita os valores dos limiares de Canny baseado nos parâmetros anteriormente descritos. O parâmetro superior é definido como sendo o triplo do inferior. A matriz <i>bordas</i> gerada possui fundo preto, tendo como cor branca apenas as bordas das figuras. Dessa forma, a função <i>np.where</i> possibilita que a variável <i>pontos_borda</i> possua as coordenadas de todos os pontos de borda detecdados.\n",
    "\n",
    "Com estes pontos de interesse, realiza-se outro loop de forma a acessar as coordenadas das bordas e preenchê-las com circunferências de radio variável dependendo da iteração. Para garantir esta variação dos raios, a variável <i>inc</i> foi criada para ser incrementada e acessar os outros valores de raios no vetor RAIO."
   ]
  },
  {
   "cell_type": "code",
   "execution_count": 32,
   "metadata": {},
   "outputs": [],
   "source": [
    "inc = 0\n",
    "for c in range(STEP_CANNY,CANNY_MAX,STEP_CANNY):\n",
    "    bordas = cv2.Canny(image, c, 3*c)\n",
    "    pontos_borda = np.where(bordas == 255)\n",
    "    for i in range(len(pontos_borda[0])):\n",
    "        x = pontos_borda[0][i]\n",
    "        y = pontos_borda[1][i]\n",
    "        gray = int(image[x][y])\n",
    "        cv2.circle(pontos, (y,x), RAIO[inc], (gray,gray,gray), -1)\n",
    "    inc += 1"
   ]
  },
  {
   "cell_type": "markdown",
   "metadata": {},
   "source": [
    "Abaixo tem-se as linhas de código referentes à exibição do resultado:"
   ]
  },
  {
   "cell_type": "code",
   "execution_count": 34,
   "metadata": {},
   "outputs": [],
   "source": [
    "cv2.imshow(\"pontos\",pontos)\n",
    "cv2.waitKey(0)\n",
    "cv2.destroyAllWindows()"
   ]
  },
  {
   "cell_type": "markdown",
   "metadata": {},
   "source": [
    "<a id='result'></a>\n",
    "\n",
    "<h3>2.3 Resultados</h3>\n",
    "\n",
    "A imagem original utilizada para o processo anteriormente descrito foi a seguinte:\n",
    "\n",
    "![original](../images/we.jpg)\n",
    "\n",
    "Após o primeiro processo de preenchimento da imagem com circunferências, obteve-se o seguinte:\n",
    "\n",
    "![pont1](../images/documentation/pont1.jpg)\n",
    "\n",
    "Percebe-se que apenas com o processo comum de Pontilhismo, o resultado não fica visualmente agradável. Porém, ao utilizar as informações de borda das imagens obtidas com o algoritmo de Canny para melhora o processo, obteve-se o seguinte resultado:\n",
    "\n",
    "![pont_final](../images/documentation/pont_final.jpg)\n",
    "\n",
    "É notável que a imagem final fica visualmente mais agradável se comparada com aquela gerada no processo intermediário."
   ]
  },
  {
   "cell_type": "code",
   "execution_count": null,
   "metadata": {},
   "outputs": [],
   "source": []
  }
 ],
 "metadata": {
  "kernelspec": {
   "display_name": "Python 3",
   "language": "python",
   "name": "python3"
  },
  "language_info": {
   "codemirror_mode": {
    "name": "ipython",
    "version": 3
   },
   "file_extension": ".py",
   "mimetype": "text/x-python",
   "name": "python",
   "nbconvert_exporter": "python",
   "pygments_lexer": "ipython3",
   "version": "3.7.3"
  }
 },
 "nbformat": 4,
 "nbformat_minor": 4
}
