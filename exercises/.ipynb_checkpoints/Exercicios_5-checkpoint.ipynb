{
 "cells": [
  {
   "cell_type": "markdown",
   "metadata": {},
   "source": [
    "<h1>FILTRAGEM NO DOMÍNIO ESPACIAL II</h1>\n",
    "\n",
    "<h2>Sumário</h2>\n",
    "    \n",
    "[1. Introdução](#introducao)<br>\n",
    "[2. Script de rotulação simples](#script1)<br>\n",
    "&nbsp;&nbsp;&nbsp;&nbsp;[2.1 Bibliotecas](#bibliotecas)<br>\n",
    "&nbsp;&nbsp;&nbsp;&nbsp;[2.2 Função <i>tilt-shift</i>](#funcao1)<br>\n",
    "&nbsp;&nbsp;&nbsp;&nbsp;[2.3 Função <i>tilt-shift</i> com alteração dinâmica dos parâmetros](#script2)<br>"
   ]
  },
  {
   "cell_type": "markdown",
   "metadata": {},
   "source": [
    "<a id='introducao'></a>\n",
    "\n",
    "<h2>1. Introdução</h2>\n",
    "\n",
    "<p style='text-align: justify;'>Este exercício tem com objetivo a aplicação dos princípios de filtragem no domínio espacial, porém, com ênfase em uma técnica de fotografia denominada <i>tilt-shift</i>, descrita no seguinte <a href=\"https://agostinhobritojr.github.io/tutorial/pdi/#_filtragem_no_dom%C3%ADnio_espacial_ii\">link.</a></p>"
   ]
  },
  {
   "cell_type": "markdown",
   "metadata": {},
   "source": [
    "<a id='script1'></a>\n",
    "\n",
    "<h2>2. Script para realização do <i>tilt-shift</i></h2>\n",
    "\n",
    "<p style='text-align: justify;'>O script descrito nesta seção deve ser capaz de realizar o processo de <i>tilt-shift</i>. Tendo uma determinada imagem $f(x,y)$ como entrada do processo, a saída deve seguir a seguinte equação:</p>\n",
    "\n",
    "$$g(x,y)=\\alpha(x)f(x,y)+(1-\\alpha(x))bf(x,y)$$\n",
    "\n",
    "onde:\n",
    "\n",
    "$$\\alpha(x)=\\frac{1}{2}\\left(tanh\\frac{x-l1}{d}-tanh\\frac{x-l2}{d} \\right)$$\n",
    "\n",
    "$bf(x,y)$ consiste na versão borrada da imagem inicial. l1 e l2 representam as linhas onde $\\alpha$ possui valor 0,5 e $d$ indica a força do decaimento na região onde há a transição da imagem original para a sua versão borrada. "
   ]
  },
  {
   "cell_type": "markdown",
   "metadata": {},
   "source": [
    "<a id='bibliotecas'></a>\n",
    "\n",
    "<h3>2.1 Bibliotecas</h3>\n",
    "\n",
    "<p style='text-align: justify;'>Inicialmente, importa-se as bibliotecas necessárias para a realização dos algoritmos. A primeira consiste na biblioteca do openCV para Python, utilizada para todo o tratamento de imagem. O numpy é utilizado para trabalhar com as matrizes da simagens. O Matplotlib foi utilizado para a exibição das imagens <i>inline</i> no <i>Jupyter Notebook</i>.</p>"
   ]
  },
  {
   "cell_type": "code",
   "execution_count": 3,
   "metadata": {},
   "outputs": [],
   "source": [
    "import cv2\n",
    "import numpy as np\n",
    "import matplotlib.pyplot as plt"
   ]
  },
  {
   "cell_type": "markdown",
   "metadata": {},
   "source": [
    "<a id='funcao1'></a>\n",
    "\n",
    "\n",
    "<h3>2.2 Função <i>tilt-shift</i></h3>\n",
    "\n",
    "A função abaixo impelmenta a função desejada, tendo como parâmetros as variáveis apresentadas nas equações anteriormente. Para gerar a versão borrada da imagem, utilizou-se um filtro média."
   ]
  },
  {
   "cell_type": "code",
   "execution_count": 9,
   "metadata": {},
   "outputs": [],
   "source": [
    "def tiltshift(img, l1, l2, d, plot = True):\n",
    "    ref = np.shape(img)[0]//2\n",
    "    x = np.arange(-ref,ref,1)\n",
    "    a = (np.tanh((x-l1)/d) - np.tanh((x-l2)/d))/2\n",
    "    alfa = np.zeros(img.shape)\n",
    "\n",
    "    for i in range(np.shape(img)[1]):\n",
    "        alfa[:,i,:] = np.stack((a,a,a),axis=-1)\n",
    "    \n",
    "    mean = np.array([[1/9,1/9,1/9],[1/9,1/9,1/9],[1/9,1/9,1/9]])\n",
    "    blurred = cv2.filter2D(img,-1,mean)\n",
    "    \n",
    "    out = np.copy(img)    \n",
    "    out = (np.multiply(alfa,img) + np.multiply((1-alfa),blurred)).astype('uint8')\n",
    "    \n",
    "    if plot:\n",
    "        plt.figure(1,[15,5])\n",
    "        plt.subplot(131)\n",
    "        plt.imshow(cv2.cvtColor(img, cv2.COLOR_BGR2RGB))\n",
    "        plt.axis(\"off\")\n",
    "        plt.title(\"Imagem de entrada\")\n",
    "\n",
    "        plt.subplot(132)\n",
    "        plt.imshow(cv2.cvtColor(out, cv2.COLOR_BGR2RGB))\n",
    "        plt.axis(\"off\")\n",
    "        plt.title(\"Imagem com efeito tiltshift\")\n",
    "        \n",
    "        plt.subplot(133)\n",
    "        plt.plot(x,a)\n",
    "        plt.title(\"Alpha(x)\")"
   ]
  },
  {
   "cell_type": "markdown",
   "metadata": {},
   "source": [
    "Abaixo, tem-se um exemplo de aplicação da função. Na imagem resultante, percebe-se que as partes superior e inferior da imagem estão borradas, tal como foi descrito anteriormente. O gráfico da direita mostra a função $\\alpha(x)$ de acordo com os parâmetros passados para a função."
   ]
  },
  {
   "cell_type": "markdown",
   "metadata": {},
   "source": [
    "img = cv2.imread(\"..\\\\images\\\\blend2.jpg\")\n",
    "\n",
    "tiltshift(img,-70,70,20)"
   ]
  },
  {
   "cell_type": "markdown",
   "metadata": {},
   "source": [
    "<a id='script2'></a>\n",
    "\n",
    "\n",
    "<h3>2.3 Função <i>tilt-shift</i> com alteração dinâmica dos parâmetros</h3>\n",
    "\n",
    "A função abaixo impelmenta também o <i>tilt-shift</i>, porém, com parâmetros diferentes. Neste caso, a função recebe a altura da janela que não será borrada na imagem, o centro deste janela também pode ser movido e o parâmetro da força de decaimento é o mesmo da função anteriormente descrita. Com os dois primeiros parâmetros citados anteriormente, é possível calcular $l1$ e $l2$ necessários ao cálculo da função $\\alpha(x)$."
   ]
  },
  {
   "cell_type": "code",
   "execution_count": 17,
   "metadata": {},
   "outputs": [],
   "source": [
    "def tiltshift2(img, h, pos, d):\n",
    "    ref = np.shape(img)[0]//2\n",
    "    x = np.arange(-ref,ref,1)\n",
    "    \n",
    "    l1 = x[pos-h//2]\n",
    "    l2 = x[pos+h//2]\n",
    "    \n",
    "    a = (np.tanh((x-l1)/d) - np.tanh((x-l2)/d))/2\n",
    "    alfa = np.zeros(img.shape)\n",
    "\n",
    "    for i in range(np.shape(img)[1]):\n",
    "        alfa[:,i,:] = np.stack((a,a,a),axis=-1)\n",
    "    \n",
    "    mean = np.array([[1/9,1/9,1/9],[1/9,1/9,1/9],[1/9,1/9,1/9]])\n",
    "    blurred = cv2.filter2D(img,-1,mean)\n",
    "    \n",
    "    out = np.copy(img)    \n",
    "    out = (np.multiply(alfa,img) + np.multiply((1-alfa),blurred)).astype('uint8')\n",
    "    \n",
    "    return out"
   ]
  },
  {
   "cell_type": "markdown",
   "metadata": {},
   "source": [
    "Em seguida, são definidas as variáveis que ditarão o funcionamento das barras de configuração do efeito <i>tilt-shift</i> nas imagens."
   ]
  },
  {
   "cell_type": "code",
   "execution_count": 12,
   "metadata": {},
   "outputs": [],
   "source": [
    "height = 1\n",
    "height_slider = 1\n",
    "height_slider_max = 100\n",
    "\n",
    "force = 1\n",
    "force_slider = 1\n",
    "force_slider_max = 100\n",
    "\n",
    "pos = 1\n",
    "pos_slider = 1\n",
    "pos_slider_max = 100"
   ]
  },
  {
   "cell_type": "markdown",
   "metadata": {},
   "source": [
    "Por fim, configura-se as barras com seus respectivos valores e a janela de plot da imagem. A figura abaixo ilustra o plot da função $\\alpha(x)$ para teste da função:\n",
    "\n",
    "![tilt_alpha](..\\\\images\\\\documentation\\\\tilt_alpha.jpg)\n",
    "\n",
    "Neste caso, observa-se as barras de configuração para setar os valores da força de decaimento, altura da janela e posição desta. As barras vão de 0 a 100, mas os valores são normalizados para o tamanho da imagem e tratados para evitar o acesso de índices além das dimensões da matriz. É possível observar o comportamento onde a transição para a versão borrada da imagem já não está mais no feio da imagem, bem como a largura da janela está maior e sua posição está deslocada para cima.\n",
    "\n",
    "Por fim, o script abaixo aplica a esquação que resulta em $g(x,y)$ descrita anteriormente sobre a imagem de entrada. A imagem utilizada foi a seguinte:\n",
    "\n",
    "![tilt_col](..\\\\images\\\\documentation\\\\tilt_col.jpg)\n",
    "\n",
    "Os resultados são exibidos em tempo de execução de forma dinâmica, por isso a exemplificação do funcionamento do script abaixo foi demonstrada através das imagens acima."
   ]
  },
  {
   "cell_type": "code",
   "execution_count": 19,
   "metadata": {},
   "outputs": [
    {
     "data": {
      "text/plain": [
       "-1"
      ]
     },
     "execution_count": 19,
     "metadata": {},
     "output_type": "execute_result"
    }
   ],
   "source": [
    "def on_trackbar_force(force_slider):\n",
    "    global height\n",
    "    global pos\n",
    "    global force\n",
    "    global img\n",
    "    force = force_slider\n",
    "    #print(force,height,pos)\n",
    "    if(force_slider>0):\n",
    "        cv2.imshow(\"tiltshift\",tiltshift2(img,height,pos,force))\n",
    "\n",
    "def on_trackbar_height(height_slider):\n",
    "    global height\n",
    "    global pos\n",
    "    global force\n",
    "    global img\n",
    "    height = int(height_slider*img.shape[0]/100)\n",
    "    #print(force,height,pos)\n",
    "    if(height<img.shape[0]):\n",
    "        cv2.imshow(\"tiltshift\",tiltshift2(img,height,pos,force))\n",
    "        \n",
    "def on_trackbar_pos(pos_slider):\n",
    "    global height\n",
    "    global pos\n",
    "    global force\n",
    "    global img\n",
    "    pos = int(pos_slider*img.shape[0]/100)\n",
    "    #print(force,height,pos)\n",
    "    if(pos+height//2<img.shape[0] and pos-height//2 >= 0):\n",
    "        cv2.imshow(\"tiltshift\",tiltshift2(img,height,pos,force))\n",
    "\n",
    "img = cv2.imread(\"..\\\\images\\\\blend2.jpg\")\n",
    "\n",
    "cv2.namedWindow(\"tiltshift\", 1)\n",
    "\n",
    "TrackbarName = \"Force\"\n",
    "cv2.createTrackbar(TrackbarName,\"tiltshift\",force_slider,force_slider_max,on_trackbar_force)\n",
    "on_trackbar_force(1)\n",
    "\n",
    "TrackbarName = \"Height\"\n",
    "cv2.createTrackbar(TrackbarName,\"tiltshift\",height_slider,height_slider_max,on_trackbar_height)\n",
    "on_trackbar_height(1)\n",
    "\n",
    "TrackbarName = \"Pos\"\n",
    "cv2.createTrackbar(TrackbarName,\"tiltshift\",pos_slider,pos_slider_max,on_trackbar_pos)\n",
    "on_trackbar_pos(1)\n",
    "\n",
    "cv2.waitKey(0)"
   ]
  },
  {
   "cell_type": "code",
   "execution_count": 1,
   "metadata": {},
   "outputs": [
    {
     "name": "stdout",
     "output_type": "stream",
     "text": [
      "largura=1080.0\n",
      "altura=1920.0\n",
      "fps=29.83\n",
      "format=0.0\n"
     ]
    },
    {
     "ename": "error",
     "evalue": "OpenCV(4.2.0) C:\\projects\\opencv-python\\opencv\\modules\\imgproc\\src\\color.cpp:182: error: (-215:Assertion failed) !_src.empty() in function 'cv::cvtColor'\n",
     "output_type": "error",
     "traceback": [
      "\u001b[1;31m---------------------------------------------------------------------------\u001b[0m",
      "\u001b[1;31merror\u001b[0m                                     Traceback (most recent call last)",
      "\u001b[1;32m<ipython-input-1-2a08ef79c644>\u001b[0m in \u001b[0;36m<module>\u001b[1;34m\u001b[0m\n\u001b[0;32m     20\u001b[0m         \u001b[0mret\u001b[0m\u001b[1;33m,\u001b[0m \u001b[0mframe\u001b[0m \u001b[1;33m=\u001b[0m \u001b[0mcaptura\u001b[0m\u001b[1;33m.\u001b[0m\u001b[0mread\u001b[0m\u001b[1;33m(\u001b[0m\u001b[1;33m)\u001b[0m\u001b[1;33m\u001b[0m\u001b[1;33m\u001b[0m\u001b[0m\n\u001b[0;32m     21\u001b[0m \u001b[1;33m\u001b[0m\u001b[0m\n\u001b[1;32m---> 22\u001b[1;33m         \u001b[0mgray\u001b[0m \u001b[1;33m=\u001b[0m \u001b[0mcv2\u001b[0m\u001b[1;33m.\u001b[0m\u001b[0mcvtColor\u001b[0m\u001b[1;33m(\u001b[0m\u001b[0mframe\u001b[0m\u001b[1;33m,\u001b[0m \u001b[0mcv2\u001b[0m\u001b[1;33m.\u001b[0m\u001b[0mCOLOR_BGR2GRAY\u001b[0m\u001b[1;33m)\u001b[0m\u001b[1;33m\u001b[0m\u001b[1;33m\u001b[0m\u001b[0m\n\u001b[0m\u001b[0;32m     23\u001b[0m \u001b[1;33m\u001b[0m\u001b[0m\n\u001b[0;32m     24\u001b[0m         \u001b[0mcv2\u001b[0m\u001b[1;33m.\u001b[0m\u001b[0mimshow\u001b[0m\u001b[1;33m(\u001b[0m\u001b[1;34m'frame'\u001b[0m\u001b[1;33m,\u001b[0m\u001b[0mgray\u001b[0m\u001b[1;33m)\u001b[0m\u001b[1;33m\u001b[0m\u001b[1;33m\u001b[0m\u001b[0m\n",
      "\u001b[1;31merror\u001b[0m: OpenCV(4.2.0) C:\\projects\\opencv-python\\opencv\\modules\\imgproc\\src\\color.cpp:182: error: (-215:Assertion failed) !_src.empty() in function 'cv::cvtColor'\n"
     ]
    }
   ],
   "source": [
    "import cv2\n",
    "import numpy as np\n",
    "import matplotlib.pyplot as plt\n",
    "\n",
    "captura = cv2.VideoCapture('.\\\\images\\\\video_in.mp4')\n",
    "\n",
    "if not captura.isOpened():\n",
    "    print(\"Erro ao abrir vídeo\")\n",
    "else:\n",
    "    captura.set(cv2.CAP_PROP_FRAME_WIDTH, 640)\n",
    "    captura.set(cv2.CAP_PROP_FRAME_HEIGHT, 480)\n",
    "    width = captura.get(cv2.CAP_PROP_FRAME_WIDTH)\n",
    "    height = captura.get(cv2.CAP_PROP_FRAME_HEIGHT)\n",
    "    print(\"largura=\"+str(width))\n",
    "    print(\"altura=\"+str(height))\n",
    "    print(\"fps=\"+str(captura.get(cv2.CAP_PROP_FPS)))\n",
    "    print(\"format=\"+str(captura.get(cv2.CAP_PROP_FORMAT)))\n",
    "    \n",
    "    while(captura.isOpened()):\n",
    "        ret, frame = captura.read()\n",
    "\n",
    "        gray = cv2.cvtColor(frame, cv2.COLOR_BGR2GRAY)\n",
    "\n",
    "        cv2.imshow('frame',gray)\n",
    "        if cv2.waitKey(1) & 0xFF == ord('q'):\n",
    "            break\n",
    "\n",
    "captura.release()\n",
    "cv2.destroyAllWindows()"
   ]
  },
  {
   "cell_type": "code",
   "execution_count": null,
   "metadata": {},
   "outputs": [],
   "source": []
  }
 ],
 "metadata": {
  "kernelspec": {
   "display_name": "Python 3",
   "language": "python",
   "name": "python3"
  },
  "language_info": {
   "codemirror_mode": {
    "name": "ipython",
    "version": 3
   },
   "file_extension": ".py",
   "mimetype": "text/x-python",
   "name": "python",
   "nbconvert_exporter": "python",
   "pygments_lexer": "ipython3",
   "version": "3.7.3"
  }
 },
 "nbformat": 4,
 "nbformat_minor": 4
}
