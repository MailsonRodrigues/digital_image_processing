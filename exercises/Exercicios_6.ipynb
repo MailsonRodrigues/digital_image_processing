{
 "cells": [
  {
   "cell_type": "markdown",
   "metadata": {},
   "source": [
    "<h1>FILTRAGEM NO DOMÍNIO DA FREQUÊNCIA</h1>\n",
    "\n",
    "<h2>Sumário</h2>\n",
    "    \n",
    "[1. Introdução](#introducao)<br>\n",
    "[2. Script de implementação do Filtro Homomórfico](#script1)<br>\n",
    "&nbsp;&nbsp;&nbsp;&nbsp;[2.1 Bibliotecas](#bibliotecas)<br>\n",
    "&nbsp;&nbsp;&nbsp;&nbsp;[2.2 Função de deslocamento da DFT](#funcao1)<br>\n",
    "&nbsp;&nbsp;&nbsp;&nbsp;[2.3 Filtro Homórfico](#filtro)<br>\n",
    "&nbsp;&nbsp;&nbsp;&nbsp;[2.4 Trackbar para variação dos parâmetros](#trackbar)<br>\n",
    "&nbsp;&nbsp;&nbsp;&nbsp;[2.5 Inicialização das variáveis](#init)<br>\n",
    "&nbsp;&nbsp;&nbsp;&nbsp;[2.6 Loop de variação dos parâmetros](#loop)<br>\n",
    "&nbsp;&nbsp;&nbsp;&nbsp;[2.7 Resultados](#result)<br>"
   ]
  },
  {
   "cell_type": "markdown",
   "metadata": {},
   "source": [
    "<a id='introducao'></a>\n",
    "\n",
    "<h2>1. Introdução</h2>\n",
    "\n",
    "<p style='text-align: justify;'>Este exercício tem com objetivo o entendimento acerca do processo de filtragem no domínio da frequência, onde pôde-se elucidar os conhecimentos relacionados à representação de imagens no domínio da frequência através da Transformada Discreta de Fourier (DFT). Para a execução do processo de filtragem, foi implementado um filtro homomórfico para realizar a correção de problemas de iluminação em imagens.</p>"
   ]
  },
  {
   "cell_type": "markdown",
   "metadata": {},
   "source": [
    "<a id='script1'></a>\n",
    "\n",
    "<h2>2. Script de implementação do Filtro Homomórfico</h2>\n",
    "\n",
    "<p style='text-align: justify;'>Esta seção descreverá a implementação de um algoritmo capaz de realizar o processo de filtragem através de um Filtro Homomórfico com parâmetros variáveis.</p>"
   ]
  },
  {
   "cell_type": "markdown",
   "metadata": {},
   "source": [
    "<a id='bibliotecas'></a>\n",
    "\n",
    "<h3>2.1 Bibliotecas</h3>\n",
    "\n",
    "<p style='text-align: justify;'>Inicialmente, importa-se as bibliotecas necessárias para a realização dos algoritmos. A primeira consiste na biblioteca do openCV para Python, utilizada para todo o tratamento das imagens e realização de processos como por exemplo, a DFT. O numpy é utilizado para trabalhar com as matrizes das imagens, possibilitando operações matemáticas, por exmeplo.</p>"
   ]
  },
  {
   "cell_type": "code",
   "execution_count": 12,
   "metadata": {},
   "outputs": [],
   "source": [
    "import cv2\n",
    "import numpy as np"
   ]
  },
  {
   "cell_type": "markdown",
   "metadata": {},
   "source": [
    "<a id='funcao1'></a>\n",
    "\n",
    "<h3>2.2 Função de deslocamento da DFT</h3>\n",
    "\n",
    "A função abaixo recebe uma matriz multidimensional como parâmetro e realiza a inversão dos quadrantes para garantir uma melhor representação da transformada. A matriz que entra na função tem os quadrantes da seguinte forma:\n",
    "\n",
    "<table>\n",
    "<tr>\n",
    "    <td>A</td>\n",
    "    <td>B</td>\n",
    "</tr>\n",
    "<tr>\n",
    "    <td>C</td>\n",
    "    <td>D</td>\n",
    "</tr>\n",
    "</table>\n",
    "\n",
    "Já na saída, os quadrantes serão reorganizados da seguinte forma:\n",
    "\n",
    "<table>\n",
    "<tr>\n",
    "    <td>D</td>\n",
    "    <td>C</td>\n",
    "</tr>\n",
    "<tr>\n",
    "    <td>B</td>\n",
    "    <td>A</td>\n",
    "</tr>\n",
    "</table>"
   ]
  },
  {
   "cell_type": "code",
   "execution_count": 13,
   "metadata": {},
   "outputs": [],
   "source": [
    "def deslocaDFT(img):\n",
    "    A = img[0:np.shape(img)[0]//2,0:np.shape(img)[1]//2,:]\n",
    "    B = img[0:np.shape(img)[0]//2,np.shape(img)[1]//2:np.shape(img)[1],:]\n",
    "    C = img[np.shape(img)[0]//2:np.shape(img)[0],0:np.shape(img)[1]//2,:]\n",
    "    D = img[np.shape(img)[0]//2:np.shape(img)[0],np.shape(img)[1]//2:np.shape(img)[1],:]\n",
    "\n",
    "    img1 = np.copy(img)\n",
    "    img1[0:np.shape(img)[0]//2,0:np.shape(img)[1]//2,:] = D\n",
    "    img1[0:np.shape(img)[0]//2,np.shape(img)[1]//2:np.shape(img)[1],:] = C\n",
    "    img1[np.shape(img)[0]//2:np.shape(img)[0],0:np.shape(img)[1]//2,:] = B\n",
    "    img1[np.shape(img)[0]//2:np.shape(img)[0],np.shape(img)[1]//2:np.shape(img)[1],:] = A\n",
    "    \n",
    "    return img1"
   ]
  },
  {
   "cell_type": "markdown",
   "metadata": {},
   "source": [
    "<a id='filtro'></a>\n",
    "\n",
    "<h3>2.3 Filtro Homomórfico</h3>\n",
    "\n",
    "Para corrigir a má iluminação de uma cena, um filtro homomórfico pode ser utilizado. Sua implementação no domínio da frequência é possível através da seguinte equação:\n",
    "\n",
    "$$H(u,v)=(\\gamma_H-\\gamma_L)\\left(1-e^{-c\\left(\\frac{D^2(u,v)}{D^2_0}\\right)}\\right)+\\gamma_L$$\n",
    "\n",
    "Dessa forma, tem-se os parâmetros $\\gamma_L$, $\\gamma_H$, $c$ e $D_0$ como parâmetros para a regulação do filtro. Logo, a equação acima foi transformada em uma função, a qual recebe como parâmetros as variáveis indicadas anteriormente e as dimensões da DFT da imagem. Dessa forma, um filtro com parte real e imaginária é gerado e retornado."
   ]
  },
  {
   "cell_type": "code",
   "execution_count": 14,
   "metadata": {},
   "outputs": [],
   "source": [
    "def filtro_homomorfico(gammaH, gammaL, D0, c, dft_M, dft_N):\n",
    "    filtro = np.zeros([dft_M,dft_N,2], dtype='float32')\n",
    "    for i in range(dft_M):\n",
    "        for j in range(dft_N):\n",
    "            filtro[i][j][:] = (gammaH-gammaL)*(1-np.exp(-c*(((i-dft_M/2)**2 + (j-dft_N/2)**2) / (D0**2)))) + gammaL\n",
    "    return filtro"
   ]
  },
  {
   "cell_type": "markdown",
   "metadata": {},
   "source": [
    "<a id='trackbar'></a>\n",
    "\n",
    "<h3>2.4 Trackbar para variação dos parâmetros</h3>\n",
    "\n",
    "Para que os parâmetros pudessem ser todos variados em tempo de execução do programa, foram criados quatro <i>Trackbars</i>, sendo uma para cada parâmetro variável do filtro. Algumas condições foram consideradas para o bom funcionamento do código, como por exemplo, impedir que a variável $D_0$, que está presente em um denominador, seja zero, ocasionando em um resultado infinito. O trecho de código das funções dos <i>Trackbars</i> são mostradas abaixo:"
   ]
  },
  {
   "cell_type": "code",
   "execution_count": 15,
   "metadata": {},
   "outputs": [],
   "source": [
    "def on_trackbar_gammaH(gammaH_slider):\n",
    "    global gammaH\n",
    "    global gammaL\n",
    "    if gammaH > gammaL:\n",
    "        gammaH = gammaH_slider\n",
    "    \n",
    "\n",
    "def on_trackbar_gammaL(gammaL_slider):\n",
    "    global gammaL\n",
    "    global gammaH\n",
    "    if gammaL < gammaH:\n",
    "        gammaL = gammaL_slider\n",
    "    \n",
    "def on_trackbar_D0(D0_slider):\n",
    "    global D0\n",
    "    if D0_slider != 0:\n",
    "        D0 = D0_slider\n",
    "    \n",
    "def on_trackbar_c(c_slider):\n",
    "    global c\n",
    "    c = c_slider"
   ]
  },
  {
   "cell_type": "markdown",
   "metadata": {},
   "source": [
    "<a id='init'></a>\n",
    "\n",
    "<h3>2.5 Inicialização das variáveis</h3>\n",
    "\n",
    "Neste trecho de código, são inicializadas as variáveis úteis ao programa. Nesta parte, lê-se a imagem alvo do processamento, bem como calcula-se a frequência máxima desta imagem. Além disso, os limites das <i>Trackbars</i> são definidos e estas são criadas, assim como é gerada a imagem com as bordas completadas com zeros (<i>padding</i>) para otimização da DFT."
   ]
  },
  {
   "cell_type": "code",
   "execution_count": 1,
   "metadata": {},
   "outputs": [],
   "source": [
    "image = cv2.imread(\"..\\\\images\\\\surprise.jpeg\", 0)\n",
    "\n",
    "dft_M = cv2.getOptimalDFTSize(image.shape[0])\n",
    "dft_N = cv2.getOptimalDFTSize(image.shape[1])\n",
    "\n",
    "freq_max = int(dft_M/2 - 1)\n",
    "\n",
    "cv2.namedWindow(\"Filtrada\",1)\n",
    "\n",
    "gammaH = 15\n",
    "gammaH_max = freq_max\n",
    "gammaH_slider = 15\n",
    "\n",
    "gammaL = 10\n",
    "gammaL_max = freq_max-1\n",
    "gammaL_slider = 10\n",
    "\n",
    "D0 = 10\n",
    "D0_max = freq_max\n",
    "D0_slider = 10\n",
    "\n",
    "c = 10\n",
    "c_max = freq_max*10\n",
    "c_slider = 10\n",
    "\n",
    "cv2.createTrackbar(\"gammaH\",\"Filtrada\", gammaH_slider, gammaH_max, on_trackbar_gammaH)\n",
    "on_trackbar_gammaH(gammaH)\n",
    "\n",
    "cv2.createTrackbar(\"gammaL\",\"Filtrada\", gammaL_slider, gammaL_max, on_trackbar_gammaL)\n",
    "on_trackbar_gammaL(gammaL)\n",
    "\n",
    "cv2.createTrackbar(\"D0\",\"Filtrada\", D0_slider, D0_max, on_trackbar_D0)\n",
    "on_trackbar_D0(D0)\n",
    "\n",
    "cv2.createTrackbar(\"c\",\"Filtrada\", c_slider, c_max, on_trackbar_c)\n",
    "on_trackbar_c(c)\n",
    "\n",
    "padded = cv2.copyMakeBorder(image, 0, dft_M - image.shape[0], 0, dft_N - image.shape[1], cv2.BORDER_CONSTANT, 0)"
   ]
  },
  {
   "cell_type": "markdown",
   "metadata": {},
   "source": [
    "<a id='loop'></a>\n",
    "\n",
    "<h3>2.6 Loop de variação dos parâmetros</h3>\n",
    "\n",
    "Ao executar o código, será exibida a imagem resultante do processo de filtragem e as barras de configuração dos parâmetros do filtro. A cada mudança nas barras, a imagem é recriada já com a nova filtragem. No loop, a DFT da imagem é calculada e multiplicada pela resposta do filtro. Em seguida, a transformada inversa é utilizada para a recuperação da imagem filtrada."
   ]
  },
  {
   "cell_type": "code",
   "execution_count": 11,
   "metadata": {},
   "outputs": [],
   "source": [
    "while(1):   \n",
    "    filtro = filtro_homomorfico(gammaH, gammaL, D0, c, dft_M, dft_N)\n",
    "    \n",
    "    dft = cv2.dft(np.float32(padded), flags = cv2.DFT_COMPLEX_OUTPUT)\n",
    "    dft = deslocaDFT(dft)\n",
    "    \n",
    "    dft = np.multiply(dft,filtro)\n",
    "    \n",
    "    dft = deslocaDFT(dft)\n",
    "    \n",
    "    real = cv2.idft(dft, flags= cv2.DFT_REAL_OUTPUT)\n",
    "    real = cv2.normalize(real, None, 0, 1, cv2.NORM_MINMAX)\n",
    "    cv2.imshow(\"Filtrada\", real)\n",
    "    \n",
    "    #mag, ang = cv2.cartToPolar(filtro[:,:,0],filtro[:,:,1])\n",
    "    #mag = mag + 1\n",
    "    #mag = np.log(mag)\n",
    "    #mag = cv2.normalize(mag, None, 0, 1, cv2.NORM_MINMAX)\n",
    "    #cv2.imshow(\"Filtro\", mag)    \n",
    "\n",
    "    k = chr(cv2.waitKey(10) & 0xff)\n",
    "    if ord(k) == 27:\n",
    "        cv2.destroyAllWindows()\n",
    "        break"
   ]
  },
  {
   "cell_type": "markdown",
   "metadata": {},
   "source": [
    "<a id='result'></a>\n",
    "\n",
    "<h3>2.7 Resultados</h3>\n",
    "\n",
    "Para a cena a ser processa, utilizou-se um flash de câmera de celular para causar uma iluminação muito forte, como mostrado abaixo:\n",
    "\n",
    "![sup_gray](../images/documentation/surprise_gray.jpg)\n",
    "\n",
    "Após um certo tempo variando os parâmetros, obteve-se o seguinte resultado para $\\gamma_L=213$, $\\gamma_H=225$, $c=520$ e $D_0=61$:\n",
    "\n",
    "![sup](../images/documentation/surprise.jpg)\n",
    "\n",
    "A expectativa era tornar um brinquedo do pikachu mais aparente na região mais escura à esquerda, porém, ficou meio assustador. A figura abaixo destaca a posição do brinquedo:\n",
    "\n",
    "![pikachu](../images/documentation/pikachu.jpg)\n",
    "\n",
    "A resposta do filtro com os parâmetros mostrados acimas foi a seguinte:\n",
    "\n",
    "![resp_homo](../images/documentation/resp_homo.jpg)\n"
   ]
  },
  {
   "cell_type": "code",
   "execution_count": null,
   "metadata": {},
   "outputs": [],
   "source": []
  }
 ],
 "metadata": {
  "kernelspec": {
   "display_name": "Python 3",
   "language": "python",
   "name": "python3"
  },
  "language_info": {
   "codemirror_mode": {
    "name": "ipython",
    "version": 3
   },
   "file_extension": ".py",
   "mimetype": "text/x-python",
   "name": "python",
   "nbconvert_exporter": "python",
   "pygments_lexer": "ipython3",
   "version": "3.7.3"
  }
 },
 "nbformat": 4,
 "nbformat_minor": 4
}
